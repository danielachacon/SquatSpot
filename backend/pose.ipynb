{
 "cells": [
  {
   "cell_type": "code",
   "metadata": {
    "ExecuteTime": {
     "end_time": "2025-02-22T17:53:07.682929Z",
     "start_time": "2025-02-22T17:53:04.282445Z"
    }
   },
   "source": [
    "import cv2\n",
    "import mediapipe as mp\n",
    "import numpy as np\n",
    "\n",
    "mp_drawing = mp.solutions.drawing_utils\n",
    "mp_pose = mp.solutions.pose"
   ],
   "outputs": [],
   "execution_count": 2
  },
  {
   "cell_type": "markdown",
   "metadata": {},
   "source": [
    "# Make Detections"
   ]
  },
  {
   "cell_type": "code",
   "metadata": {
    "ExecuteTime": {
     "end_time": "2025-02-22T17:53:11.180162Z",
     "start_time": "2025-02-22T17:53:11.177037Z"
    }
   },
   "source": [
    "def calculate_angle(a,b,c):\n",
    "    a = np.array(a)\n",
    "    b = np.array(b)\n",
    "    c = np.array(c)\n",
    "    \n",
    "    radians = np.arctan2(c[1] - b[1], c[0] - b[0]) - np.arctan2(a[1] - b[1], a[0] - b[0])\n",
    "\n",
    "    angle = np.abs(radians*180.0/np.pi)\n",
    "    \n",
    "    if angle > 180.0:\n",
    "        angle = 360-angle\n",
    "        \n",
    "    return angle"
   ],
   "outputs": [],
   "execution_count": 3
  },
  {
   "cell_type": "code",
   "metadata": {
    "ExecuteTime": {
     "end_time": "2025-02-22T17:42:25.732838Z",
     "start_time": "2025-02-22T17:42:25.722608Z"
    }
   },
   "source": [
    "def calculate_statistics(landmarks, world_landmarks):\n",
    "    left_knee = [landmarks[mp_pose.PoseLandmark.LEFT_KNEE.value].x, landmarks[mp_pose.PoseLandmark.LEFT_KNEE.value].y]\n",
    "    left_hip = [landmarks[mp_pose.PoseLandmark.LEFT_HIP.value].x, landmarks[mp_pose.PoseLandmark.LEFT_HIP.value].y]\n",
    "    left_ankle = [landmarks[mp_pose.PoseLandmark.LEFT_ANKLE.value].x, landmarks[mp_pose.PoseLandmark.LEFT_ANKLE.value].y]\n",
    "    left_shoulder = (world_landmarks[mp_pose.PoseLandmark.LEFT_SHOULDER.value].x,\n",
    "                 world_landmarks[mp_pose.PoseLandmark.LEFT_SHOULDER.value].y)\n",
    "    world_left_ankle = [world_landmarks[mp_pose.PoseLandmark.LEFT_ANKLE.value].x,\n",
    "              world_landmarks[mp_pose.PoseLandmark.LEFT_ANKLE.value].y,\n",
    "              world_landmarks[mp_pose.PoseLandmark.LEFT_ANKLE.value].z]\n",
    "    world_left_wrist = [landmarks[mp_pose.PoseLandmark.LEFT_WRIST.value].x, landmarks[mp_pose.PoseLandmark.LEFT_WRIST.value].y]\n",
    "    left_foot_index = [landmarks[mp_pose.PoseLandmark.LEFT_FOOT_INDEX.value].x, landmarks[mp_pose.PoseLandmark.LEFT_FOOT_INDEX.value].y]\n",
    "    right_foot_index = [landmarks[mp_pose.PoseLandmark.RIGHT_FOOT_INDEX.value].x, landmarks[mp_pose.PoseLandmark.RIGHT_FOOT_INDEX.value].y]\n",
    "    left_heel = [landmarks[mp_pose.PoseLandmark.LEFT_HEEL.value].x, landmarks[mp_pose.PoseLandmark.LEFT_HEEL.value].y]\n",
    "    right_heel = [landmarks[mp_pose.PoseLandmark.RIGHT_HEEL.value].x, landmarks[mp_pose.PoseLandmark.RIGHT_HEEL.value].y]\n",
    "    right_knee = [landmarks[mp_pose.PoseLandmark.RIGHT_KNEE.value].x, landmarks[mp_pose.PoseLandmark.RIGHT_KNEE.value].y]\n",
    "    right_hip = [landmarks[mp_pose.PoseLandmark.RIGHT_HIP.value].x, landmarks[mp_pose.PoseLandmark.RIGHT_HIP.value].y]\n",
    "    right_ankle = [landmarks[mp_pose.PoseLandmark.RIGHT_ANKLE.value].x, landmarks[mp_pose.PoseLandmark.RIGHT_ANKLE.value].y]\n",
    "    right_shoulder = (world_landmarks[mp_pose.PoseLandmark.RIGHT_SHOULDER.value].x,\n",
    "                  world_landmarks[mp_pose.PoseLandmark.RIGHT_SHOULDER.value].y)\n",
    "    world_right_ankle = [world_landmarks[mp_pose.PoseLandmark.RIGHT_ANKLE.value].x,\n",
    "               world_landmarks[mp_pose.PoseLandmark.RIGHT_ANKLE.value].y,\n",
    "               world_landmarks[mp_pose.PoseLandmark.RIGHT_ANKLE.value].z]\n",
    "    world_right_wrist = [landmarks[mp_pose.PoseLandmark.RIGHT_WRIST.value].x, landmarks[mp_pose.PoseLandmark.RIGHT_WRIST.value].y]\n",
    "    \n",
    "    # Hips Below knees\n",
    "    if landmarks[mp_pose.PoseLandmark.LEFT_KNEE.value].y <= landmarks[mp_pose.PoseLandmark.LEFT_HIP.value].y and landmarks[mp_pose.PoseLandmark.RIGHT_KNEE.value].y <= landmarks[mp_pose.PoseLandmark.RIGHT_HIP.value].y:\n",
    "        hipsBelowKnees = True\n",
    "    else:\n",
    "        hipsBelowKnees = False\n",
    "\n",
    "    # Weight shift (Forward/Backward)\n",
    "    shoulder_mid_x = (left_shoulder[0] + right_shoulder[0]) / 2\n",
    "    ankle_mid_x = (left_ankle[0] + right_ankle[0]) / 2\n",
    "    \n",
    "    # Weight shift based on angle between toe heel ankle\n",
    "    right_foot_angle = calculate_angle(right_foot_index, right_heel, right_ankle)\n",
    "    left_foot_angle = calculate_angle(left_foot_index, left_heel, left_ankle)\n",
    "    \n",
    "    # Weight shift lateral\n",
    "    left_mid_x = (left_hip[0] + left_ankle[0]) / 2\n",
    "\n",
    "    metrics = {\n",
    "    'depth_left': calculate_angle(left_ankle, left_knee, left_hip),\n",
    "    \n",
    "    'depth_right': calculate_angle(right_ankle, right_knee, right_hip),\n",
    "    \n",
    "    'knee_balance': [right_foot_angle, left_foot_angle],\n",
    "    \n",
    "    'hips_below_knees': hipsBelowKnees,\n",
    "        \n",
    "    'foot_distance': np.linalg.norm(np.array(world_left_ankle) - np.array(world_right_ankle)),\n",
    "    \n",
    "    'grip_width': np.linalg.norm(np.array(world_left_wrist) - np.array(world_right_wrist)),\n",
    "    \n",
    "    'weight_shift': (shoulder_mid_x - ankle_mid_x),\n",
    "    \n",
    "    'lateral_hip_position': left_mid_x,\n",
    "    \n",
    "    'spine_angle_1': calculate_angle(left_knee, left_hip, left_shoulder),\n",
    "    'spine_angle_2': calculate_angle(right_knee, right_hip, right_shoulder),\n",
    "    'spine_angle_3': left_shoulder[1] - left_hip[1]\n",
    "    }\n",
    "    \n",
    "    return metrics\n"
   ],
   "outputs": [],
   "execution_count": 7
  },
  {
   "cell_type": "code",
   "metadata": {
    "ExecuteTime": {
     "end_time": "2025-02-22T17:59:40.636887Z",
     "start_time": "2025-02-22T17:54:04.559446Z"
    }
   },
   "source": [
    "cap = cv2.VideoCapture(0)\n",
    "cap.set(cv2.CAP_PROP_FRAME_WIDTH, 1280)\n",
    "cap.set(cv2.CAP_PROP_FRAME_HEIGHT, 720)\n",
    "\n",
    "counter = 0\n",
    "stage = None\n",
    "apex = 1000\n",
    "prev_landmarks = None\n",
    "prev_world_landmarks = None\n",
    "top_rep_statistics = None\n",
    "top_hip_position = 0\n",
    "lateral_shift = 0\n",
    "\n",
    "with mp_pose.Pose(min_detection_confidence=0.5, min_tracking_confidence=0.5) as pose:\n",
    "    while cap.isOpened():\n",
    "        ret, frame = cap.read()\n",
    "        \n",
    "        # Recolor Image because we want our image to be passed to MediaPipe in format to RGB (Default is of BGR)\n",
    "        image = cv2.cvtColor(frame, cv2.COLOR_BGR2RGB)\n",
    "        image.flags.writeable = False\n",
    "        \n",
    "        # Make detection (Pose model)\n",
    "        results = pose.process(image)\n",
    "        \n",
    "        # Recolor back to BGR for opencv\n",
    "        image.flags.writeable = True\n",
    "        image = cv2.cvtColor(image, cv2.COLOR_RGB2BGR)\n",
    "        \n",
    "        # Extract Landmarks\n",
    "        try:\n",
    "            landmarks = results.pose_landmarks.landmark\n",
    "            world_landmarks = results.pose_world_landmarks.landmark\n",
    "            metrics = calculate_statistics(landmarks, world_landmarks)\n",
    "            apex = min((world_landmarks[mp_pose.PoseLandmark.LEFT_WRIST.value].y + world_landmarks[mp_pose.PoseLandmark.RIGHT_WRIST.value].y) / 2, apex) # Bottom of Squat\n",
    "            \n",
    "            # Display the metrics on the image\n",
    "            print(metrics[\"knee_balance\"])\n",
    "            print(metrics[\"foot_distance\"])\n",
    "            cv2.putText(image, str(metrics[\"spine_angle_3\"]), (10, 30), cv2.FONT_HERSHEY_COMPLEX, 0.5, (255, 255, 255), 1, cv2.LINE_AA)\n",
    "            cv2.putText(image, str(metrics[\"spine_angle_1\"]), (10, 50), cv2.FONT_HERSHEY_COMPLEX, 0.5, (255, 255, 255), 1, cv2.LINE_AA)\n",
    "            cv2.putText(image, stage, (10, 70), cv2.FONT_HERSHEY_COMPLEX, 0.5, (255, 255, 255), 1, cv2.LINE_AA)\n",
    "            cv2.putText(image, str(counter), (10, 90), cv2.FONT_HERSHEY_COMPLEX, 0.5, (255, 255, 255), 1, cv2.LINE_AA)\n",
    "            \n",
    "            if metrics[\"depth_left\"] > 170:\n",
    "                stage = \"top rep\"\n",
    "                top_hip_position = metrics[\"lateral_hip_position\"]\n",
    "                lateral_shift = 0\n",
    "            if metrics[\"depth_left\"] < 120 and stage == \"top rep\":\n",
    "                stage = \"during rep\"\n",
    "                counter += 1\n",
    "            if metrics[\"depth_left\"] < 150:\n",
    "                lateral_shift = (top_hip_position - metrics[\"lateral_hip_position\"]) * 100\n",
    "                \n",
    "        except:\n",
    "            pass\n",
    "        \n",
    "        # Render detections\n",
    "        mp_drawing.draw_landmarks(image, results.pose_landmarks, mp_pose.POSE_CONNECTIONS, \n",
    "                                  mp_drawing.DrawingSpec(color=(0,255,0), thickness=2, circle_radius=2),\n",
    "                                  mp_drawing.DrawingSpec(color=(0,0,255), thickness=2, circle_radius=2))\n",
    "        \n",
    "        cv2.imshow('Mediapipe Feed', image)\n",
    "        \n",
    "        if cv2.waitKey(10) & 0xFF == ord('q'):\n",
    "            break\n",
    "        \n",
    "        prev_landmarks = landmarks\n",
    "        prev_world_landmarks = prev_world_landmarks\n",
    "\n",
    "    cap.release()\n",
    "    cv2.destroyAllWindows()"
   ],
   "outputs": [
    {
     "name": "stderr",
     "output_type": "stream",
     "text": [
      "I0000 00:00:1740246845.958073 46078720 gl_context.cc:369] GL version: 2.1 (2.1 Metal - 88.1), renderer: Apple M3\n",
      "W0000 00:00:1740246846.028243 46081521 inference_feedback_manager.cc:114] Feedback manager requires a model with a single signature inference. Disabling support for feedback tensors.\n",
      "W0000 00:00:1740246846.041596 46081523 inference_feedback_manager.cc:114] Feedback manager requires a model with a single signature inference. Disabling support for feedback tensors.\n",
      "2025-02-22 12:54:06.388 Python[95661:46078720] WARNING: Secure coding is not enabled for restorable state! Enable secure coding by implementing NSApplicationDelegate.applicationSupportsSecureRestorableState: and returning YES.\n"
     ]
    },
    {
     "ename": "KeyboardInterrupt",
     "evalue": "",
     "output_type": "error",
     "traceback": [
      "\u001B[0;31m---------------------------------------------------------------------------\u001B[0m",
      "\u001B[0;31mKeyboardInterrupt\u001B[0m                         Traceback (most recent call last)",
      "Cell \u001B[0;32mIn[7], line 16\u001B[0m\n\u001B[1;32m     14\u001B[0m \u001B[38;5;28;01mwith\u001B[39;00m mp_pose\u001B[38;5;241m.\u001B[39mPose(min_detection_confidence\u001B[38;5;241m=\u001B[39m\u001B[38;5;241m0.5\u001B[39m, min_tracking_confidence\u001B[38;5;241m=\u001B[39m\u001B[38;5;241m0.5\u001B[39m) \u001B[38;5;28;01mas\u001B[39;00m pose:\n\u001B[1;32m     15\u001B[0m     \u001B[38;5;28;01mwhile\u001B[39;00m cap\u001B[38;5;241m.\u001B[39misOpened():\n\u001B[0;32m---> 16\u001B[0m         ret, frame \u001B[38;5;241m=\u001B[39m \u001B[43mcap\u001B[49m\u001B[38;5;241;43m.\u001B[39;49m\u001B[43mread\u001B[49m\u001B[43m(\u001B[49m\u001B[43m)\u001B[49m\n\u001B[1;32m     18\u001B[0m         \u001B[38;5;66;03m# Recolor Image because we want our image to be passed to MediaPipe in format to RGB (Default is of BGR)\u001B[39;00m\n\u001B[1;32m     19\u001B[0m         image \u001B[38;5;241m=\u001B[39m cv2\u001B[38;5;241m.\u001B[39mcvtColor(frame, cv2\u001B[38;5;241m.\u001B[39mCOLOR_BGR2RGB)\n",
      "\u001B[0;31mKeyboardInterrupt\u001B[0m: "
     ]
    }
   ],
   "execution_count": 7
  },
  {
   "cell_type": "code",
   "metadata": {
    "ExecuteTime": {
     "end_time": "2025-02-22T17:53:53.938093Z",
     "start_time": "2025-02-22T17:53:53.773143Z"
    }
   },
   "source": [
    "video = \"backsquat.mp4\"\n",
    "cap = cv2.VideoCapture(video)\n",
    "\n",
    "counter = 0\n",
    "stage = None\n",
    "apex = 1000\n",
    "prev_landmarks = None\n",
    "prev_world_landmarks = None\n",
    "top_rep_statistics = None\n",
    "top_hip_position = 0\n",
    "lateral_shift = 0\n",
    "\n",
    "with mp_pose.Pose(static_image_mode=True, min_detection_confidence=0.5, min_tracking_confidence=0.5) as pose:\n",
    "    while cap.isOpened():\n",
    "        ret, frame = cap.read()\n",
    "        if not ret:  # Prevent crash if frame is None\n",
    "            break\n",
    "        \n",
    "        # Recolor Image because we want our image to be passed to MediaPipe in format to RGB (Default is of BGR)\n",
    "        image = cv2.cvtColor(frame, cv2.COLOR_BGR2RGB)\n",
    "        image.flags.writeable = False\n",
    "        \n",
    "        # Make detection (Pose model)\n",
    "        results = pose.process(image)\n",
    "        \n",
    "        # Recolor back to BGR for opencv\n",
    "        image.flags.writeable = True\n",
    "        image = cv2.cvtColor(image, cv2.COLOR_RGB2BGR)\n",
    "        \n",
    "        # Extract Landmarks\n",
    "        try:\n",
    "            landmarks = results.pose_landmarks.landmark\n",
    "            world_landmarks = results.pose_world_landmarks.landmark\n",
    "            metrics = calculate_statistics(landmarks, world_landmarks)\n",
    "            apex = min((world_landmarks[mp_pose.PoseLandmark.LEFT_WRIST.value].y + world_landmarks[mp_pose.PoseLandmark.RIGHT_WRIST.value].y) / 2, apex) # Bottom of Squat\n",
    "            \n",
    "            # Display the metrics on the image\n",
    "            cv2.putText(image, str(metrics[\"hips_below_knees\"]), (10, 30), cv2.FONT_HERSHEY_COMPLEX, 0.5, (0, 0, 0), 1, cv2.LINE_AA)\n",
    "            cv2.putText(image, str(metrics[\"spine_angle_1\"]), (10, 50), cv2.FONT_HERSHEY_COMPLEX, 0.5, (0, 0, 0), 1, cv2.LINE_AA)\n",
    "            cv2.putText(image, stage, (10, 70), cv2.FONT_HERSHEY_COMPLEX, 0.5, (255, 255, 255), 1, cv2.LINE_AA)\n",
    "            cv2.putText(image, str(counter), (10, 90), cv2.FONT_HERSHEY_COMPLEX, 0.5, (255, 255, 255), 1, cv2.LINE_AA)\n",
    "            \n",
    "            if metrics[\"depth_left\"] > 170:\n",
    "                stage = \"top rep\"\n",
    "                top_hip_position = metrics[\"lateral_hip_position\"]\n",
    "                lateral_shift = 0\n",
    "            if metrics[\"depth_left\"] < 120 and stage == \"top rep\":\n",
    "                stage = \"during rep\"\n",
    "                counter += 1\n",
    "            if metrics[\"depth_left\"] < 150:\n",
    "                lateral_shift = (top_hip_position - metrics[\"lateral_hip_position\"]) * 100\n",
    "                \n",
    "        except:\n",
    "            pass\n",
    "        \n",
    "        # Render detections\n",
    "        mp_drawing.draw_landmarks(image, results.pose_landmarks, mp_pose.POSE_CONNECTIONS, \n",
    "                                  mp_drawing.DrawingSpec(color=(0,255,0), thickness=2, circle_radius=2),\n",
    "                                  mp_drawing.DrawingSpec(color=(0,0,255), thickness=2, circle_radius=2))\n",
    "        \n",
    "        cv2.imshow('Mediapipe Feed', image)\n",
    "        \n",
    "        if cv2.waitKey(10) & 0xFF == ord('q'):\n",
    "            break\n",
    "        \n",
    "        prev_landmarks = landmarks\n",
    "        prev_world_landmarks = prev_world_landmarks\n",
    "\n",
    "    cap.release()\n",
    "    cv2.destroyAllWindows()"
   ],
   "outputs": [
    {
     "name": "stderr",
     "output_type": "stream",
     "text": [
      "OpenCV: Couldn't read video stream from file \"backsquat.mp4\"\n",
      "I0000 00:00:1740246833.873480 46078720 gl_context.cc:369] GL version: 2.1 (2.1 Metal - 88.1), renderer: Apple M3\n",
      "W0000 00:00:1740246833.923527 46081331 inference_feedback_manager.cc:114] Feedback manager requires a model with a single signature inference. Disabling support for feedback tensors.\n",
      "W0000 00:00:1740246833.934292 46081331 inference_feedback_manager.cc:114] Feedback manager requires a model with a single signature inference. Disabling support for feedback tensors.\n"
     ]
    }
   ],
   "execution_count": 6
  },
  {
   "metadata": {},
   "cell_type": "code",
   "outputs": [],
   "execution_count": null,
   "source": ""
  }
 ],
 "metadata": {
  "kernelspec": {
   "display_name": "Python (squatmaxxer)",
   "language": "python",
   "name": "squatmaxxer"
  },
  "language_info": {
   "codemirror_mode": {
    "name": "ipython",
    "version": 3
   },
   "file_extension": ".py",
   "mimetype": "text/x-python",
   "name": "python",
   "nbconvert_exporter": "python",
   "pygments_lexer": "ipython3",
   "version": "3.11.11"
  }
 },
 "nbformat": 4,
 "nbformat_minor": 2
}
